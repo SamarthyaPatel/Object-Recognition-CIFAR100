{
  "nbformat": 4,
  "nbformat_minor": 0,
  "metadata": {
    "colab": {
      "provenance": [],
      "collapsed_sections": [
        "59Mdlqh2n49B",
        "8blmEkHxoQa9",
        "3k2fIsoqmfEy",
        "TW9l27oXyPPA",
        "aB6RTJqYpOYc",
        "LEseq1SUpHJ8"
      ]
    },
    "kernelspec": {
      "name": "python3",
      "display_name": "Python 3"
    },
    "language_info": {
      "name": "python"
    }
  },
  "cells": [
    {
      "cell_type": "markdown",
      "source": [
        "## **Libraries Import**"
      ],
      "metadata": {
        "id": "59Mdlqh2n49B"
      }
    },
    {
      "cell_type": "code",
      "execution_count": null,
      "metadata": {
        "id": "JPhKUSa7fXNX"
      },
      "outputs": [],
      "source": [
        "import numpy as np\n",
        "import matplotlib.pyplot as plot\n",
        "import skimage.feature\n",
        "from sklearn.cluster import KMeans;\n",
        "from tensorflow.keras import layers, models\n",
        "from tensorflow.keras.layers import Conv2D, MaxPooling2D, Dense, Flatten\n",
        "from sklearn.metrics import confusion_matrix , classification_report, ConfusionMatrixDisplay"
      ]
    },
    {
      "cell_type": "markdown",
      "source": [
        "## **Load the Dataset**"
      ],
      "metadata": {
        "id": "8blmEkHxoQa9"
      }
    },
    {
      "cell_type": "code",
      "source": [
        "images = np.load('sample_data/trnImage.npy')\n",
        "print(images.shape)\n",
        "\n",
        "test_images = np.load('sample_data/tstImage.npy')\n",
        "print(test_images.shape)\n",
        "\n",
        "labels = np.load('sample_data/trnLabel.npy')\n",
        "print(labels.shape)\n",
        "\n",
        "test_labels = np.load('sample_data/tstLabel.npy')\n",
        "print(test_labels.shape)"
      ],
      "metadata": {
        "id": "UaR_0aqyg-he",
        "colab": {
          "base_uri": "https://localhost:8080/"
        },
        "outputId": "b1698797-0dbc-428e-ffa8-ae1b3751c5f5"
      },
      "execution_count": null,
      "outputs": [
        {
          "output_type": "stream",
          "name": "stdout",
          "text": [
            "(32, 32, 3, 10000)\n",
            "(32, 32, 3, 1000)\n",
            "(10000, 1)\n",
            "(1000, 1)\n"
          ]
        }
      ]
    },
    {
      "cell_type": "markdown",
      "source": [
        "##**Image Feature Extraction proccess**"
      ],
      "metadata": {
        "id": "3k2fIsoqmfEy"
      }
    },
    {
      "cell_type": "code",
      "source": [
        "image_index = 1\n",
        "image = images[:, :, :, image_index]\n",
        "\n",
        "hog_feature, hog_image = skimage.feature.hog(image, pixels_per_cell=[2,2], cells_per_block=[3,3], visualize=True)\n",
        "\n",
        "print(f'The extracted feature vector is of length {hog_feature.shape[0]} per sample')"
      ],
      "metadata": {
        "colab": {
          "base_uri": "https://localhost:8080/"
        },
        "id": "nuLHChMcySMX",
        "outputId": "922ab72f-e3f2-42f0-8c3c-48ffb3b2969c"
      },
      "execution_count": null,
      "outputs": [
        {
          "output_type": "stream",
          "name": "stdout",
          "text": [
            "The extracted feature vector is of length 15876 per sample\n"
          ]
        }
      ]
    },
    {
      "cell_type": "code",
      "source": [
        "plot.figure()\n",
        "plot.subplot(121)\n",
        "plot.imshow(hog_image)\n",
        "plot.subplot(122)\n",
        "plot.imshow(image)\n",
        "plot.suptitle(f'Extracted HOG features from image number: {image_index}')\n",
        "plot.show(block=False)"
      ],
      "metadata": {
        "colab": {
          "base_uri": "https://localhost:8080/",
          "height": 262
        },
        "id": "pRk873m2yWXj",
        "outputId": "4cb28d9c-949a-4473-adf8-03c38f29eb27"
      },
      "execution_count": null,
      "outputs": [
        {
          "output_type": "display_data",
          "data": {
            "text/plain": [
              "<Figure size 432x288 with 2 Axes>"
            ],
            "image/png": "[encoded data removed]"
          },
          "metadata": {
            "needs_background": "light"
          }
        }
      ]
    },
    {
      "cell_type": "markdown",
      "source": [
        "## **K-Means**"
      ],
      "metadata": {
        "id": "TW9l27oXyPPA"
      }
    },
    {
      "cell_type": "code",
      "source": [
        "train_KM = np.reshape(images, (10000, 3072))\n",
        "test_KM = np.reshape(test_images, (1000, 3072))\n",
        "\n",
        "km = KMeans(n_clusters=10, n_init = 1).fit(train_KM);\n",
        "\n",
        "predicted = km.predict(test_KM);\n",
        "\n",
        "centroids = km.cluster_centers_;\n",
        "\n",
        "plot.scatter(test_KM[:,-1], test_labels[:,-1], c = predicted);\n",
        "\n",
        "plot.scatter(centroids[:,0], centroids[:,1], color='red', marker='x');"
      ],
      "metadata": {
        "colab": {
          "base_uri": "https://localhost:8080/",
          "height": 265
        },
        "id": "wM9szd20peev",
        "outputId": "cc5cbb15-3bf4-4ac9-dba8-1f34211da934"
      },
      "execution_count": null,
      "outputs": [
        {
          "output_type": "display_data",
          "data": {
            "text/plain": [
              "<Figure size 432x288 with 1 Axes>"
            ],
            "image/png": "[encoded data removed]"
          },
          "metadata": {
            "needs_background": "light"
          }
        }
      ]
    },
    {
      "cell_type": "markdown",
      "source": [
        "##**Artificial Neural Network (ANN)**"
      ],
      "metadata": {
        "id": "aB6RTJqYpOYc"
      }
    },
    {
      "cell_type": "code",
      "source": [
        "train_ANN = np.reshape(images, (10000, 32, 32, 3))\n",
        "print(train_ANN.shape)\n",
        "\n",
        "test_ANN = np.reshape(test_images, (1000, 32, 32, 3))\n",
        "print(test_ANN.shape)\n",
        "\n",
        "label_ANN = labels.reshape(-1)\n",
        "print(label_ANN.shape)\n",
        "\n",
        "test_label_ANN = test_labels.reshape(-1)\n",
        "print(test_label_ANN.shape)"
      ],
      "metadata": {
        "colab": {
          "base_uri": "https://localhost:8080/"
        },
        "id": "wD_ASmEA0GTq",
        "outputId": "0442fc1c-ea71-45aa-fb39-e8c98d675c88"
      },
      "execution_count": null,
      "outputs": [
        {
          "output_type": "stream",
          "name": "stdout",
          "text": [
            "(10000, 32, 32, 3)\n",
            "(1000, 32, 32, 3)\n",
            "(10000,)\n",
            "(1000,)\n"
          ]
        }
      ]
    },
    {
      "cell_type": "code",
      "source": [
        "ann = models.Sequential([\n",
        "        layers.Flatten(input_shape=(32,32,3)),\n",
        "        layers.Dense(3000, activation='relu'),\n",
        "        layers.Dense(1500, activation='relu'),\n",
        "        layers.Dense(10, activation='softmax')    \n",
        "    ])\n",
        "\n",
        "ann.compile(optimizer='SGD',\n",
        "              loss='sparse_categorical_crossentropy',\n",
        "              metrics=['accuracy'])\n",
        "\n",
        "ann.fit(train_ANN, label_ANN, epochs=10)"
      ],
      "metadata": {
        "colab": {
          "base_uri": "https://localhost:8080/"
        },
        "id": "oxV9xB8vq08a",
        "outputId": "2a35f9d8-b768-4513-bdc4-ed6f83332c24"
      },
      "execution_count": null,
      "outputs": [
        {
          "output_type": "stream",
          "name": "stdout",
          "text": [
            "Epoch 1/10\n",
            "313/313 [==============================] - 26s 83ms/step - loss: 2.3302 - accuracy: 0.1080\n",
            "Epoch 2/10\n",
            "313/313 [==============================] - 25s 81ms/step - loss: 2.2620 - accuracy: 0.1436\n",
            "Epoch 3/10\n",
            "313/313 [==============================] - 25s 81ms/step - loss: 2.2124 - accuracy: 0.1902\n",
            "Epoch 4/10\n",
            "313/313 [==============================] - 25s 81ms/step - loss: 2.1480 - accuracy: 0.2174\n",
            "Epoch 5/10\n",
            "313/313 [==============================] - 26s 84ms/step - loss: 2.0804 - accuracy: 0.2389\n",
            "Epoch 6/10\n",
            "313/313 [==============================] - 25s 81ms/step - loss: 2.0286 - accuracy: 0.2708\n",
            "Epoch 7/10\n",
            "313/313 [==============================] - 25s 80ms/step - loss: 1.9565 - accuracy: 0.3030\n",
            "Epoch 8/10\n",
            "313/313 [==============================] - 26s 83ms/step - loss: 1.8949 - accuracy: 0.3247\n",
            "Epoch 9/10\n",
            "313/313 [==============================] - 25s 81ms/step - loss: 1.8148 - accuracy: 0.3584\n",
            "Epoch 10/10\n",
            "313/313 [==============================] - 25s 81ms/step - loss: 1.7499 - accuracy: 0.3880\n"
          ]
        },
        {
          "output_type": "execute_result",
          "data": {
            "text/plain": [
              "<keras.callbacks.History at 0x7f915f0f5130>"
            ]
          },
          "metadata": {},
          "execution_count": 329
        }
      ]
    },
    {
      "cell_type": "code",
      "source": [
        "results = ann.evaluate(test_ANN, test_label_ANN)\n",
        "\n",
        "print(f'Test set loss: {results[0]:0.2f}, test set accuracy: {results[1]*100:0.2f}%');"
      ],
      "metadata": {
        "colab": {
          "base_uri": "https://localhost:8080/"
        },
        "id": "hzSxcudBscK9",
        "outputId": "8358df2a-d258-4599-e518-28b94ec2eddb"
      },
      "execution_count": null,
      "outputs": [
        {
          "output_type": "stream",
          "name": "stdout",
          "text": [
            "32/32 [==============================] - 1s 31ms/step - loss: 2.5533 - accuracy: 0.1020\n",
            "Test set loss: 2.55, test set accuracy: 10.20%\n"
          ]
        }
      ]
    },
    {
      "cell_type": "code",
      "source": [
        "ann.summary();"
      ],
      "metadata": {
        "colab": {
          "base_uri": "https://localhost:8080/"
        },
        "id": "Cu6j6Tzj5oEd",
        "outputId": "360f22de-7af2-4a31-b908-9989afc3f63a"
      },
      "execution_count": null,
      "outputs": [
        {
          "output_type": "stream",
          "name": "stdout",
          "text": [
            "Model: \"sequential_49\"\n",
            "_________________________________________________________________\n",
            " Layer (type)                Output Shape              Param #   \n",
            "=================================================================\n",
            " flatten_47 (Flatten)        (None, 3072)              0         \n",
            "                                                                 \n",
            " dense_186 (Dense)           (None, 3000)              9219000   \n",
            "                                                                 \n",
            " dense_187 (Dense)           (None, 1500)              4501500   \n",
            "                                                                 \n",
            " dense_188 (Dense)           (None, 10)                15010     \n",
            "                                                                 \n",
            "=================================================================\n",
            "Total params: 13,735,510\n",
            "Trainable params: 13,735,510\n",
            "Non-trainable params: 0\n",
            "_________________________________________________________________\n"
          ]
        }
      ]
    },
    {
      "cell_type": "code",
      "source": [
        "predicted = ann.predict(test_ANN)\n",
        "\n",
        "predicted = (predicted[:,-1]*100-1).astype(int)\n",
        "predicted = np.array([9 if e > 9 else e for e in predicted])\n",
        "\n",
        "cm = confusion_matrix(test_label_ANN, predicted)\n",
        "\n",
        "cmd_obj = ConfusionMatrixDisplay(cm, display_labels=[np.unique(label_ANN)])\n",
        "\n",
        "cmd_obj.plot()\n",
        "\n",
        "cmd_obj.ax_.set(title='Confusion Matrix')\n",
        "cmd_obj.ax_.yaxis.set_ticklabels(np.unique(label_ANN))\n",
        "cmd_obj.ax_.xaxis.set_ticklabels(np.unique(label_ANN))\n",
        "\n",
        "plot.show()"
      ],
      "metadata": {
        "colab": {
          "base_uri": "https://localhost:8080/",
          "height": 347
        },
        "id": "0uPvXcBFODlW",
        "outputId": "bee72d75-5e73-4836-a954-312fce3fb643"
      },
      "execution_count": null,
      "outputs": [
        {
          "output_type": "stream",
          "name": "stdout",
          "text": [
            "32/32 [==============================] - 1s 35ms/step\n"
          ]
        },
        {
          "output_type": "stream",
          "name": "stderr",
          "text": [
            "/usr/local/lib/python3.8/dist-packages/matplotlib/text.py:1165: FutureWarning: elementwise comparison failed; returning scalar instead, but in the future will perform elementwise comparison\n",
            "  if s != self._text:\n"
          ]
        },
        {
          "output_type": "display_data",
          "data": {
            "text/plain": [
              "<Figure size 432x288 with 2 Axes>"
            ],
            "image/png": "[encoded data removed]"
          },
          "metadata": {
            "needs_background": "light"
          }
        }
      ]
    },
    {
      "cell_type": "markdown",
      "source": [
        "## **Convolutional Neural Network (CNN)**"
      ],
      "metadata": {
        "id": "LEseq1SUpHJ8"
      }
    },
    {
      "cell_type": "code",
      "source": [
        "train_CNN = np.reshape(images, (10000, 32, 32, 3))\n",
        "print(train_CNN.shape)\n",
        "\n",
        "test_CNN = np.reshape(test_images, (1000, 32, 32, 3))\n",
        "print(test_CNN.shape)\n",
        "\n",
        "label_CNN = labels.reshape(-1)\n",
        "print(label_CNN.shape)\n",
        "\n",
        "test_label_CNN = test_labels.reshape(-1)\n",
        "print(test_label_CNN.shape)"
      ],
      "metadata": {
        "colab": {
          "base_uri": "https://localhost:8080/"
        },
        "id": "ltWwuTC49gKZ",
        "outputId": "e475dfdc-4adb-4693-950a-b413ccbef778"
      },
      "execution_count": null,
      "outputs": [
        {
          "output_type": "stream",
          "name": "stdout",
          "text": [
            "(10000, 32, 32, 3)\n",
            "(1000, 32, 32, 3)\n",
            "(10000,)\n",
            "(1000,)\n"
          ]
        }
      ]
    },
    {
      "cell_type": "code",
      "source": [
        "cnn = models.Sequential([\n",
        "    layers.Conv2D(filters=32, kernel_size=(3, 3), activation='relu', input_shape=(32, 32, 3)),\n",
        "    layers.MaxPooling2D((2, 2)),\n",
        "    layers.Flatten(),\n",
        "    layers.Dense(3000, activation='relu'),\n",
        "    layers.Dense(10, activation='softmax')\n",
        "])\n",
        "\n",
        "cnn.compile(\n",
        "    optimizer='adam', \n",
        "    loss=\"sparse_categorical_crossentropy\", \n",
        "    metrics=[\"accuracy\"]);\n",
        "\n",
        "cnn.summary()"
      ],
      "metadata": {
        "colab": {
          "base_uri": "https://localhost:8080/"
        },
        "id": "71xn6BNM9hAi",
        "outputId": "ea447df5-383a-44c6-f145-51320510e690"
      },
      "execution_count": null,
      "outputs": [
        {
          "output_type": "stream",
          "name": "stdout",
          "text": [
            "Model: \"sequential_47\"\n",
            "_________________________________________________________________\n",
            " Layer (type)                Output Shape              Param #   \n",
            "=================================================================\n",
            " conv2d_5 (Conv2D)           (None, 30, 30, 32)        896       \n",
            "                                                                 \n",
            " max_pooling2d_5 (MaxPooling  (None, 15, 15, 32)       0         \n",
            " 2D)                                                             \n",
            "                                                                 \n",
            " flatten_45 (Flatten)        (None, 7200)              0         \n",
            "                                                                 \n",
            " dense_181 (Dense)           (None, 3000)              21603000  \n",
            "                                                                 \n",
            " dense_182 (Dense)           (None, 10)                30010     \n",
            "                                                                 \n",
            "=================================================================\n",
            "Total params: 21,633,906\n",
            "Trainable params: 21,633,906\n",
            "Non-trainable params: 0\n",
            "_________________________________________________________________\n"
          ]
        }
      ]
    },
    {
      "cell_type": "code",
      "source": [
        "cnn.fit(train_CNN, label_CNN, epochs=10, batch_size=32)"
      ],
      "metadata": {
        "colab": {
          "base_uri": "https://localhost:8080/"
        },
        "id": "YAX6nvZ49hDC",
        "outputId": "8e681344-0a9f-444e-81ce-aae2e8127d4a"
      },
      "execution_count": null,
      "outputs": [
        {
          "output_type": "stream",
          "name": "stdout",
          "text": [
            "Epoch 1/10\n",
            "313/313 [==============================] - 75s 239ms/step - loss: 2.3189 - accuracy: 0.1648\n",
            "Epoch 2/10\n",
            "313/313 [==============================] - 68s 216ms/step - loss: 1.4773 - accuracy: 0.4182\n",
            "Epoch 3/10\n",
            "313/313 [==============================] - 68s 217ms/step - loss: 0.9132 - accuracy: 0.6430\n",
            "Epoch 4/10\n",
            "313/313 [==============================] - 67s 213ms/step - loss: 0.6042 - accuracy: 0.7767\n",
            "Epoch 5/10\n",
            "313/313 [==============================] - 66s 209ms/step - loss: 0.3986 - accuracy: 0.8652\n",
            "Epoch 6/10\n",
            "313/313 [==============================] - 65s 209ms/step - loss: 0.2511 - accuracy: 0.9266\n",
            "Epoch 7/10\n",
            "313/313 [==============================] - 68s 216ms/step - loss: 0.2023 - accuracy: 0.9394\n",
            "Epoch 8/10\n",
            "313/313 [==============================] - 65s 208ms/step - loss: 0.1294 - accuracy: 0.9680\n",
            "Epoch 9/10\n",
            "313/313 [==============================] - 79s 254ms/step - loss: 0.0967 - accuracy: 0.9755\n",
            "Epoch 10/10\n",
            "313/313 [==============================] - 74s 236ms/step - loss: 0.0814 - accuracy: 0.9806\n"
          ]
        },
        {
          "output_type": "execute_result",
          "data": {
            "text/plain": [
              "<keras.callbacks.History at 0x7f9165de88e0>"
            ]
          },
          "metadata": {},
          "execution_count": 246
        }
      ]
    },
    {
      "cell_type": "code",
      "source": [
        "results = cnn.evaluate(test_CNN, test_label_CNN);\n",
        "\n",
        "print(f'Test set loss: {results[0]:0.2f}, test set accuracy: {results[1]*100:0.2f}%');"
      ],
      "metadata": {
        "colab": {
          "base_uri": "https://localhost:8080/"
        },
        "id": "ARH23goB9hFk",
        "outputId": "26ad1cc6-eb8d-46fc-b4f2-66070964ba8f"
      },
      "execution_count": null,
      "outputs": [
        {
          "output_type": "stream",
          "name": "stdout",
          "text": [
            "32/32 [==============================] - 3s 99ms/step - loss: 6.0459 - accuracy: 0.1850\n",
            "Test set loss: 6.05, test set accuracy: 18.50%\n"
          ]
        }
      ]
    },
    {
      "cell_type": "code",
      "source": [
        "predicted = cnn.predict(test_CNN)\n",
        "\n",
        "predicted = ((predicted[:,-1]*1000)-1).astype(int)\n",
        "predicted = np.array([9 if e > 9 else e for e in predicted])\n",
        "\n",
        "cm = confusion_matrix(test_label_CNN, predicted)\n",
        "\n",
        "cmd_obj = ConfusionMatrixDisplay(cm, display_labels=[np.unique(label_CNN)])\n",
        "\n",
        "cmd_obj.plot()\n",
        "\n",
        "cmd_obj.ax_.set(title='Confusion Matrix')\n",
        "cmd_obj.ax_.yaxis.set_ticklabels(np.unique(label_CNN))\n",
        "cmd_obj.ax_.xaxis.set_ticklabels(np.unique(label_CNN))\n",
        "\n",
        "plot.show()"
      ],
      "metadata": {
        "colab": {
          "base_uri": "https://localhost:8080/",
          "height": 347
        },
        "id": "z6h2jDFChs_u",
        "outputId": "23993f25-2151-4b69-e1e2-8d72951f0f43"
      },
      "execution_count": null,
      "outputs": [
        {
          "output_type": "stream",
          "name": "stdout",
          "text": [
            "32/32 [==============================] - 3s 94ms/step\n"
          ]
        },
        {
          "output_type": "stream",
          "name": "stderr",
          "text": [
            "/usr/local/lib/python3.8/dist-packages/matplotlib/text.py:1165: FutureWarning: elementwise comparison failed; returning scalar instead, but in the future will perform elementwise comparison\n",
            "  if s != self._text:\n"
          ]
        },
        {
          "output_type": "display_data",
          "data": {
            "text/plain": [
              "<Figure size 432x288 with 2 Axes>"
            ],
            "image/png": "[encoded data removed]"
          },
          "metadata": {
            "needs_background": "light"
          }
        }
      ]
    },
    {
      "cell_type": "code",
      "source": [],
      "metadata": {
        "id": "G9nSvLZsl0bs"
      },
      "execution_count": null,
      "outputs": []
    }
  ]
}